{
 "cells": [
  {
   "cell_type": "code",
   "execution_count": 1,
   "id": "a1347c9b-ce4b-43be-a68d-29ef584d5e4c",
   "metadata": {},
   "outputs": [
    {
     "name": "stdout",
     "output_type": "stream",
     "text": [
      "dict_keys(['data', 'target', 'frame', 'target_names', 'DESCR', 'feature_names'])\n",
      "Accuracy: 0.75\n",
      "Perceptron Confusion Matrix:\n",
      " [[13  1  0]\n",
      " [ 0 14  0]\n",
      " [ 2  6  0]]\n"
     ]
    }
   ],
   "source": [
    "# Import required libraries\n",
    "from sklearn.datasets import load_wine  # Change to load_wine\n",
    "from sklearn.linear_model import Perceptron\n",
    "from sklearn.model_selection import train_test_split\n",
    "from sklearn.metrics import accuracy_score, confusion_matrix\n",
    "import pandas as pd  # Import pandas for DataFrame manipulation\n",
    "\n",
    "# Load the Wine dataset\n",
    "wine = load_wine()  # Change from iris to wine\n",
    "\n",
    "# View the wine data keys\n",
    "print(wine.keys())  # Print the keys to inspect\n",
    "\n",
    "# Convert data and target into a DataFrame\n",
    "X = pd.DataFrame(data=wine.data, columns=wine.feature_names)  # Use wine.data and wine.feature_names\n",
    "y = pd.DataFrame(data=wine.target, columns=['wineType'])  # Use wine.target\n",
    "\n",
    "# Split the dataset into training and testing sets\n",
    "X_train, X_test, y_train, y_test = train_test_split(X, y, test_size=0.2, random_state=42)\n",
    "\n",
    "# Create a Perceptron classifier\n",
    "mdlPercept = Perceptron()\n",
    "\n",
    "# Train the classifier\n",
    "mdlPercept.fit(X_train, y_train.values.ravel())  # Use .values.ravel() to convert y_train to a 1D array\n",
    "\n",
    "# Make predictions on the test set\n",
    "y_pred = mdlPercept.predict(X_test)\n",
    "\n",
    "# Calculate accuracy of the classifier\n",
    "accuracy = accuracy_score(y_test, y_pred)\n",
    "print(\"Accuracy:\", accuracy)\n",
    "\n",
    "# Generate the Confusion Matrix\n",
    "print(\"Perceptron Confusion Matrix:\\n\", confusion_matrix(y_test, y_pred))\n"
   ]
  },
  {
   "cell_type": "code",
   "execution_count": 2,
   "id": "50c529b3-e3e0-498b-be08-3f7c0318e385",
   "metadata": {},
   "outputs": [
    {
     "name": "stdout",
     "output_type": "stream",
     "text": [
      "Accuracy: 0.9473684210526315\n",
      "Perceptron Confusion Matrix:\n",
      " [[41  2]\n",
      " [ 4 67]]\n"
     ]
    }
   ],
   "source": [
    "# Import required libraries\n",
    "from sklearn.datasets import load_breast_cancer  # Importing breast cancer dataset\n",
    "from sklearn.linear_model import Perceptron\n",
    "from sklearn.model_selection import train_test_split\n",
    "from sklearn.metrics import accuracy_score, confusion_matrix\n",
    "import pandas as pd\n",
    "\n",
    "# Load the Breast Cancer dataset\n",
    "breast_cancer = load_breast_cancer()\n",
    "\n",
    "# Convert data and target into a data frame.\n",
    "X = pd.DataFrame(data=breast_cancer.data, columns=breast_cancer.feature_names)\n",
    "y = pd.DataFrame(data=breast_cancer.target, columns=['cancerType'])\n",
    "\n",
    "# Split the dataset into training and testing sets\n",
    "X_train, X_test, y_train, y_test = train_test_split(X, y, test_size=0.2, random_state=42)\n",
    "\n",
    "# Create a Perceptron classifier\n",
    "mdlPercept = Perceptron()\n",
    "\n",
    "# Train the classifier\n",
    "mdlPercept.fit(X_train, y_train.values.ravel())  # ravel() to avoid a warning about a non-contiguous input array\n",
    "\n",
    "# Make predictions on the test set\n",
    "y_pred = mdlPercept.predict(X_test)\n",
    "\n",
    "# Calculate accuracy of the classifier\n",
    "accuracy = accuracy_score(y_test, y_pred)\n",
    "print(\"Accuracy:\", accuracy)\n",
    "\n",
    "# Generate the Confusion Matrix\n",
    "print(\"Perceptron Confusion Matrix:\\n\", confusion_matrix(y_test, y_pred))\n"
   ]
  },
  {
   "cell_type": "code",
   "execution_count": null,
   "id": "82c8b51d-035a-4c17-bc21-d0ced9e3cf52",
   "metadata": {},
   "outputs": [],
   "source": []
  }
 ],
 "metadata": {
  "kernelspec": {
   "display_name": "Python 3 (ipykernel)",
   "language": "python",
   "name": "python3"
  },
  "language_info": {
   "codemirror_mode": {
    "name": "ipython",
    "version": 3
   },
   "file_extension": ".py",
   "mimetype": "text/x-python",
   "name": "python",
   "nbconvert_exporter": "python",
   "pygments_lexer": "ipython3",
   "version": "3.11.2"
  }
 },
 "nbformat": 4,
 "nbformat_minor": 5
}
